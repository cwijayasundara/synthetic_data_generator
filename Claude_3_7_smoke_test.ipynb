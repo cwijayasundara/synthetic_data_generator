{
 "cells": [
  {
   "cell_type": "code",
   "execution_count": 3,
   "metadata": {
    "colab": {
     "base_uri": "https://localhost:8080/"
    },
    "collapsed": true,
    "id": "tCcpIYcSp1l9",
    "outputId": "b379f23a-7459-4749-94f7-b1d9d68bca4c"
   },
   "outputs": [
    {
     "name": "stdout",
     "output_type": "stream",
     "text": [
      "Note: you may need to restart the kernel to use updated packages.\n"
     ]
    }
   ],
   "source": [
    "%pip install llama-index-core llama-index-llms-anthropic python-dotenv -q"
   ]
  },
  {
   "cell_type": "code",
   "execution_count": 2,
   "metadata": {
    "colab": {
     "base_uri": "https://localhost:8080/"
    },
    "id": "4UK1-Pr4qItW",
    "outputId": "a665ba28-4752-4854-d1fa-19307da15e7f"
   },
   "outputs": [
    {
     "name": "stdout",
     "output_type": "stream",
     "text": [
      "I'll help you generate a LlamaIndex RAG (Retrieval-Augmented Generation) pipeline in Python using Claude Sonnet as the LLM. Let me create a comprehensive example for you.\n",
      "\n",
      "To build this pipeline, we'll need to:\n",
      "1. Set up the necessary dependencies\n",
      "2. Configure Claude Sonnet as the LLM\n",
      "3. Create a document loader\n",
      "4. Build the index\n",
      "5. Set up a query engine\n",
      "6. Implement the RAG pipeline\n",
      "\n",
      "Here's a complete implementation:\n",
      "\n",
      "```python\n",
      "# Import necessary libraries\n",
      "import os\n",
      "from llama_index import VectorStoreIndex, SimpleDirectoryReader, ServiceContext\n",
      "from llama_index.llms import Anthropic\n",
      "\n",
      "# Set your Anthropic API key\n",
      "os.environ[\"ANTHROPIC_API_KEY\"] = \"your_anthropic_api_key\"\n",
      "\n",
      "# Initialize Claude Sonnet as the LLM\n",
      "llm = Anthropic(model=\"claude-3-sonnet-20240229\")\n",
      "\n",
      "# Create a service context with Claude Sonnet\n",
      "service_context = ServiceContext.from_defaults(llm=llm)\n",
      "\n",
      "# Load documents from a directory\n",
      "# Replace 'data/' with the path to your documents\n",
      "documents = SimpleDirectoryReader(\"data/\").load_data()\n",
      "\n",
      "# Create a vector store index from the documents\n",
      "index = VectorStoreIndex.from_documents(\n",
      "    documents, \n",
      "    service_context=service_context\n",
      ")\n",
      "\n",
      "# Create a query engine\n",
      "query_engine = index.as_query_engine()\n",
      "\n",
      "# Example RAG query\n",
      "response = query_engine.query(\n",
      "    \"What information can you provide about this topic?\"\n",
      ")\n",
      "\n",
      "# Print the response\n",
      "print(response)\n",
      "\n",
      "# Optional: Save the index for future use\n",
      "index.storage_context.persist(\"index_storage\")\n",
      "\n",
      "# To load the index later:\n",
      "# from llama_index import StorageContext, load_index_from_storage\n",
      "# storage_context = StorageContext.from_defaults(persist_dir=\"index_storage\")\n",
      "# index = load_index_from_storage(storage_context)\n",
      "```\n",
      "\n",
      "This code creates a basic RAG pipeline using LlamaIndex with Claude Sonnet as the LLM. Here's what each part does:\n",
      "\n",
      "1. **Setup\n"
     ]
    }
   ],
   "source": [
    "from llama_index.core.agent.workflow import AgentWorkflow\n",
    "from llama_index.llms.anthropic import Anthropic\n",
    "import os\n",
    "from dotenv import load_dotenv\n",
    "\n",
    "_ = load_dotenv()\n",
    "\n",
    "llm = Anthropic(model=\"claude-3-7-sonnet-latest\")\n",
    "\n",
    "def do_nothing():\n",
    "  print(\"I did nothing\")\n",
    "\n",
    "agent = AgentWorkflow.from_tools_or_functions(\n",
    "    [do_nothing],\n",
    "    llm=llm,\n",
    "    system_prompt=\"You are an agent that answers questions about code\",\n",
    ")\n",
    "\n",
    "response = await agent.run(user_msg=\"Generate a llamaindex RAG pipeline in python. Use Claude Sonnet as the LLM.\")\n",
    "print(response)"
   ]
  }
 ],
 "metadata": {
  "colab": {
   "provenance": []
  },
  "kernelspec": {
   "display_name": ".venv",
   "language": "python",
   "name": "python3"
  },
  "language_info": {
   "codemirror_mode": {
    "name": "ipython",
    "version": 3
   },
   "file_extension": ".py",
   "mimetype": "text/x-python",
   "name": "python",
   "nbconvert_exporter": "python",
   "pygments_lexer": "ipython3",
   "version": "3.12.8"
  }
 },
 "nbformat": 4,
 "nbformat_minor": 0
}
