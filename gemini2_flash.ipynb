{
 "cells": [
  {
   "cell_type": "markdown",
   "id": "97c79c38-38a3-40f3-ba2e-250649347d63",
   "metadata": {},
   "source": [
    "# Multimodal Parsing with Gemini 2.0 Flash\n",
    "\n",
    "<a href=\"https://colab.research.google.com/github/run-llama/llama_parse/blob/main/examples/multimodal/gemini2_flash.ipynb\" target=\"_parent\"><img src=\"https://colab.research.google.com/assets/colab-badge.svg\" alt=\"Open In Colab\"/></a>\n",
    "\n",
    "This cookbook shows you how to use LlamaParse to parse any document with the multimodal capabilities of Gemini 2.0 Flash.\n",
    "\n",
    "LlamaParse allows you to plug in external, multimodal model vendors for parsing - we handle the error correction, validation, and scalability/reliability for you.\n"
   ]
  },
  {
   "cell_type": "markdown",
   "id": "15e60ecf-519c-41fc-911b-765adaf8bad4",
   "metadata": {},
   "source": [
    "## Setup\n",
    "\n",
    "Download the data - we'll use a technical datasheet for a programmable logic device (Xilinx's XC9500 In-System Programmable CPLD)."
   ]
  },
  {
   "cell_type": "code",
   "execution_count": 1,
   "id": "91a9e532-1454-40e0-bbf0-fd442c350121",
   "metadata": {},
   "outputs": [],
   "source": [
    "import nest_asyncio\n",
    "\n",
    "nest_asyncio.apply()"
   ]
  },
  {
   "cell_type": "code",
   "execution_count": 5,
   "id": "0d9fb0aa-74cd-476f-8161-efd9e04248bf",
   "metadata": {},
   "outputs": [
    {
     "name": "stdout",
     "output_type": "stream",
     "text": [
      "--2025-02-12 17:28:56--  https://media.digikey.com/pdf/Data%20Sheets/AMD/XC9500_CPLD_Family.pdf\n",
      "Resolving media.digikey.com (media.digikey.com)... 2.22.70.9\n",
      "Connecting to media.digikey.com (media.digikey.com)|2.22.70.9|:443... connected.\n",
      "HTTP request sent, awaiting response... 200 OK\n",
      "Length: 201899 (197K) [application/pdf]\n",
      "Saving to: ‘data/XC9500_CPLD_Family.pdf’\n",
      "\n",
      "data/XC9500_CPLD_Fa 100%[===================>] 197.17K  --.-KB/s    in 0.03s   \n",
      "\n",
      "2025-02-12 17:28:57 (7.19 MB/s) - ‘data/XC9500_CPLD_Family.pdf’ saved [201899/201899]\n",
      "\n"
     ]
    }
   ],
   "source": [
    "!wget \"https://media.digikey.com/pdf/Data%20Sheets/AMD/XC9500_CPLD_Family.pdf\" -O data/XC9500_CPLD_Family.pdf"
   ]
  },
  {
   "cell_type": "markdown",
   "id": "4e29a9d7-5bd9-4fb8-8ec1-4c128a748662",
   "metadata": {},
   "source": [
    "## Initialize LlamaParse\n",
    "\n",
    "Initialize LlamaParse in multimodal mode, and specify the vendor as `gemini-2.0-flash-001`.\n",
    "\n",
    "**NOTE**: Current pricing is 2 credits for a 1 page ($0.006 USD / page). This includes core model, infra, and algorithm costs to fully process the page. "
   ]
  },
  {
   "cell_type": "code",
   "execution_count": 6,
   "id": "dc921729-3446-42ca-8e1b-a6fd26195ed9",
   "metadata": {},
   "outputs": [],
   "source": [
    "from llama_index.core.schema import TextNode\n",
    "from typing import List\n",
    "import json\n",
    "\n",
    "def get_text_nodes(json_list: List[dict]):\n",
    "    text_nodes = []\n",
    "    for idx, page in enumerate(json_list):\n",
    "        text_node = TextNode(text=page[\"md\"], metadata={\"page\": page[\"page\"]})\n",
    "        text_nodes.append(text_node)\n",
    "    return text_nodes\n",
    "\n",
    "\n",
    "def save_jsonl(data_list, filename):\n",
    "    \"\"\"Save a list of dictionaries as JSON Lines.\"\"\"\n",
    "    with open(filename, \"w\") as file:\n",
    "        for item in data_list:\n",
    "            json.dump(item, file)\n",
    "            file.write(\"\\n\")\n",
    "\n",
    "\n",
    "def load_jsonl(filename):\n",
    "    \"\"\"Load a list of dictionaries from JSON Lines.\"\"\"\n",
    "    data_list = []\n",
    "    with open(filename, \"r\") as file:\n",
    "        for line in file:\n",
    "            data_list.append(json.loads(line))\n",
    "    return data_list"
   ]
  },
  {
   "cell_type": "code",
   "execution_count": 12,
   "id": "f2e9d9cf-8189-4fcb-b34f-cde6cc0b59c8",
   "metadata": {},
   "outputs": [
    {
     "name": "stdout",
     "output_type": "stream",
     "text": [
      "WARNING: parsing_instruction is deprecated. Use complemental_formatting_instruction or content_guideline_instruction instead.\n",
      "Started parsing the file under job_id d231f1d0-73f1-43d5-8bed-79f5a3b60045\n"
     ]
    },
    {
     "ename": "KeyboardInterrupt",
     "evalue": "",
     "output_type": "error",
     "traceback": [
      "\u001b[0;31m---------------------------------------------------------------------------\u001b[0m",
      "\u001b[0;31mKeyboardInterrupt\u001b[0m                         Traceback (most recent call last)",
      "Cell \u001b[0;32mIn[12], line 17\u001b[0m\n\u001b[1;32m      3\u001b[0m parsing_instruction \u001b[38;5;241m=\u001b[39m \u001b[38;5;124m\"\"\"\u001b[39m\n\u001b[1;32m      4\u001b[0m \u001b[38;5;124mYou are given a technical datasheet of an electronic component.\u001b[39m\n\u001b[1;32m      5\u001b[0m \u001b[38;5;124mFor any graphs, try to create a 2D table of relevant values, along with a description of the graph.\u001b[39m\n\u001b[1;32m      6\u001b[0m \u001b[38;5;124mFor any schematic diagrams, MAKE SURE to describe a list of all components and their connections to each other.\u001b[39m\n\u001b[1;32m      7\u001b[0m \u001b[38;5;124mMake sure that you always parse out the text with the correct reading order.\u001b[39m\n\u001b[1;32m      8\u001b[0m \u001b[38;5;124m\"\"\"\u001b[39m\n\u001b[1;32m     10\u001b[0m parser \u001b[38;5;241m=\u001b[39m LlamaParse(\n\u001b[1;32m     11\u001b[0m     result_type\u001b[38;5;241m=\u001b[39m\u001b[38;5;124m\"\u001b[39m\u001b[38;5;124mmarkdown\u001b[39m\u001b[38;5;124m\"\u001b[39m,\n\u001b[1;32m     12\u001b[0m     use_vendor_multimodal_model\u001b[38;5;241m=\u001b[39m\u001b[38;5;28;01mFalse\u001b[39;00m,\n\u001b[0;32m   (...)\u001b[0m\n\u001b[1;32m     15\u001b[0m     parsing_instruction\u001b[38;5;241m=\u001b[39mparsing_instruction,\n\u001b[1;32m     16\u001b[0m )\n\u001b[0;32m---> 17\u001b[0m json_objs \u001b[38;5;241m=\u001b[39m \u001b[43mparser\u001b[49m\u001b[38;5;241;43m.\u001b[39;49m\u001b[43mget_json_result\u001b[49m\u001b[43m(\u001b[49m\u001b[38;5;124;43m\"\u001b[39;49m\u001b[38;5;124;43m./data/pb116349-business-health-select-handbook-1024-pdfa.pdf\u001b[39;49m\u001b[38;5;124;43m\"\u001b[39;49m\u001b[43m)\u001b[49m\n\u001b[1;32m     18\u001b[0m json_list \u001b[38;5;241m=\u001b[39m json_objs[\u001b[38;5;241m0\u001b[39m][\u001b[38;5;124m\"\u001b[39m\u001b[38;5;124mpages\u001b[39m\u001b[38;5;124m\"\u001b[39m]\n\u001b[1;32m     19\u001b[0m docs \u001b[38;5;241m=\u001b[39m get_text_nodes(json_list)\n",
      "File \u001b[0;32m~/Documents/agent_research/synthetic_data_generator/.venv/lib/python3.12/site-packages/llama_cloud_services/parse/base.py:920\u001b[0m, in \u001b[0;36mLlamaParse.get_json_result\u001b[0;34m(self, file_path, extra_info)\u001b[0m\n\u001b[1;32m    918\u001b[0m \u001b[38;5;250m\u001b[39m\u001b[38;5;124;03m\"\"\"Parse the input path.\"\"\"\u001b[39;00m\n\u001b[1;32m    919\u001b[0m \u001b[38;5;28;01mtry\u001b[39;00m:\n\u001b[0;32m--> 920\u001b[0m     \u001b[38;5;28;01mreturn\u001b[39;00m \u001b[43masyncio_run\u001b[49m\u001b[43m(\u001b[49m\u001b[38;5;28;43mself\u001b[39;49m\u001b[38;5;241;43m.\u001b[39;49m\u001b[43maget_json\u001b[49m\u001b[43m(\u001b[49m\u001b[43mfile_path\u001b[49m\u001b[43m,\u001b[49m\u001b[43m \u001b[49m\u001b[43mextra_info\u001b[49m\u001b[43m)\u001b[49m\u001b[43m)\u001b[49m\n\u001b[1;32m    921\u001b[0m \u001b[38;5;28;01mexcept\u001b[39;00m \u001b[38;5;167;01mRuntimeError\u001b[39;00m \u001b[38;5;28;01mas\u001b[39;00m e:\n\u001b[1;32m    922\u001b[0m     \u001b[38;5;28;01mif\u001b[39;00m nest_asyncio_err \u001b[38;5;129;01min\u001b[39;00m \u001b[38;5;28mstr\u001b[39m(e):\n",
      "File \u001b[0;32m~/Documents/agent_research/synthetic_data_generator/.venv/lib/python3.12/site-packages/llama_index/core/async_utils.py:33\u001b[0m, in \u001b[0;36masyncio_run\u001b[0;34m(coro)\u001b[0m\n\u001b[1;32m     30\u001b[0m     loop \u001b[38;5;241m=\u001b[39m asyncio\u001b[38;5;241m.\u001b[39mget_event_loop()\n\u001b[1;32m     32\u001b[0m     \u001b[38;5;66;03m# If we're here, there's an existing loop but it's not running\u001b[39;00m\n\u001b[0;32m---> 33\u001b[0m     \u001b[38;5;28;01mreturn\u001b[39;00m \u001b[43mloop\u001b[49m\u001b[38;5;241;43m.\u001b[39;49m\u001b[43mrun_until_complete\u001b[49m\u001b[43m(\u001b[49m\u001b[43mcoro\u001b[49m\u001b[43m)\u001b[49m\n\u001b[1;32m     35\u001b[0m \u001b[38;5;28;01mexcept\u001b[39;00m \u001b[38;5;167;01mRuntimeError\u001b[39;00m \u001b[38;5;28;01mas\u001b[39;00m e:\n\u001b[1;32m     36\u001b[0m     \u001b[38;5;66;03m# If we can't get the event loop, we're likely in a different thread, or its already running\u001b[39;00m\n\u001b[1;32m     37\u001b[0m     \u001b[38;5;28;01mtry\u001b[39;00m:\n",
      "File \u001b[0;32m~/Documents/agent_research/synthetic_data_generator/.venv/lib/python3.12/site-packages/nest_asyncio.py:92\u001b[0m, in \u001b[0;36m_patch_loop.<locals>.run_until_complete\u001b[0;34m(self, future)\u001b[0m\n\u001b[1;32m     90\u001b[0m     f\u001b[38;5;241m.\u001b[39m_log_destroy_pending \u001b[38;5;241m=\u001b[39m \u001b[38;5;28;01mFalse\u001b[39;00m\n\u001b[1;32m     91\u001b[0m \u001b[38;5;28;01mwhile\u001b[39;00m \u001b[38;5;129;01mnot\u001b[39;00m f\u001b[38;5;241m.\u001b[39mdone():\n\u001b[0;32m---> 92\u001b[0m     \u001b[38;5;28;43mself\u001b[39;49m\u001b[38;5;241;43m.\u001b[39;49m\u001b[43m_run_once\u001b[49m\u001b[43m(\u001b[49m\u001b[43m)\u001b[49m\n\u001b[1;32m     93\u001b[0m     \u001b[38;5;28;01mif\u001b[39;00m \u001b[38;5;28mself\u001b[39m\u001b[38;5;241m.\u001b[39m_stopping:\n\u001b[1;32m     94\u001b[0m         \u001b[38;5;28;01mbreak\u001b[39;00m\n",
      "File \u001b[0;32m~/Documents/agent_research/synthetic_data_generator/.venv/lib/python3.12/site-packages/nest_asyncio.py:115\u001b[0m, in \u001b[0;36m_patch_loop.<locals>._run_once\u001b[0;34m(self)\u001b[0m\n\u001b[1;32m    108\u001b[0m     heappop(scheduled)\n\u001b[1;32m    110\u001b[0m timeout \u001b[38;5;241m=\u001b[39m (\n\u001b[1;32m    111\u001b[0m     \u001b[38;5;241m0\u001b[39m \u001b[38;5;28;01mif\u001b[39;00m ready \u001b[38;5;129;01mor\u001b[39;00m \u001b[38;5;28mself\u001b[39m\u001b[38;5;241m.\u001b[39m_stopping\n\u001b[1;32m    112\u001b[0m     \u001b[38;5;28;01melse\u001b[39;00m \u001b[38;5;28mmin\u001b[39m(\u001b[38;5;28mmax\u001b[39m(\n\u001b[1;32m    113\u001b[0m         scheduled[\u001b[38;5;241m0\u001b[39m]\u001b[38;5;241m.\u001b[39m_when \u001b[38;5;241m-\u001b[39m \u001b[38;5;28mself\u001b[39m\u001b[38;5;241m.\u001b[39mtime(), \u001b[38;5;241m0\u001b[39m), \u001b[38;5;241m86400\u001b[39m) \u001b[38;5;28;01mif\u001b[39;00m scheduled\n\u001b[1;32m    114\u001b[0m     \u001b[38;5;28;01melse\u001b[39;00m \u001b[38;5;28;01mNone\u001b[39;00m)\n\u001b[0;32m--> 115\u001b[0m event_list \u001b[38;5;241m=\u001b[39m \u001b[38;5;28;43mself\u001b[39;49m\u001b[38;5;241;43m.\u001b[39;49m\u001b[43m_selector\u001b[49m\u001b[38;5;241;43m.\u001b[39;49m\u001b[43mselect\u001b[49m\u001b[43m(\u001b[49m\u001b[43mtimeout\u001b[49m\u001b[43m)\u001b[49m\n\u001b[1;32m    116\u001b[0m \u001b[38;5;28mself\u001b[39m\u001b[38;5;241m.\u001b[39m_process_events(event_list)\n\u001b[1;32m    118\u001b[0m end_time \u001b[38;5;241m=\u001b[39m \u001b[38;5;28mself\u001b[39m\u001b[38;5;241m.\u001b[39mtime() \u001b[38;5;241m+\u001b[39m \u001b[38;5;28mself\u001b[39m\u001b[38;5;241m.\u001b[39m_clock_resolution\n",
      "File \u001b[0;32m/Library/Frameworks/Python.framework/Versions/3.12/lib/python3.12/selectors.py:566\u001b[0m, in \u001b[0;36mKqueueSelector.select\u001b[0;34m(self, timeout)\u001b[0m\n\u001b[1;32m    564\u001b[0m ready \u001b[38;5;241m=\u001b[39m []\n\u001b[1;32m    565\u001b[0m \u001b[38;5;28;01mtry\u001b[39;00m:\n\u001b[0;32m--> 566\u001b[0m     kev_list \u001b[38;5;241m=\u001b[39m \u001b[38;5;28;43mself\u001b[39;49m\u001b[38;5;241;43m.\u001b[39;49m\u001b[43m_selector\u001b[49m\u001b[38;5;241;43m.\u001b[39;49m\u001b[43mcontrol\u001b[49m\u001b[43m(\u001b[49m\u001b[38;5;28;43;01mNone\u001b[39;49;00m\u001b[43m,\u001b[49m\u001b[43m \u001b[49m\u001b[43mmax_ev\u001b[49m\u001b[43m,\u001b[49m\u001b[43m \u001b[49m\u001b[43mtimeout\u001b[49m\u001b[43m)\u001b[49m\n\u001b[1;32m    567\u001b[0m \u001b[38;5;28;01mexcept\u001b[39;00m \u001b[38;5;167;01mInterruptedError\u001b[39;00m:\n\u001b[1;32m    568\u001b[0m     \u001b[38;5;28;01mreturn\u001b[39;00m ready\n",
      "\u001b[0;31mKeyboardInterrupt\u001b[0m: "
     ]
    },
    {
     "name": "stdout",
     "output_type": "stream",
     "text": [
      "Error while parsing the file './data/pb116349-business-health-select-handbook-1024-pdfa.pdf': \n"
     ]
    }
   ],
   "source": [
    "from llama_parse import LlamaParse\n",
    "\n",
    "parsing_instruction = \"\"\"\n",
    "You are given a technical datasheet of an electronic component.\n",
    "For any graphs, try to create a 2D table of relevant values, along with a description of the graph.\n",
    "For any schematic diagrams, MAKE SURE to describe a list of all components and their connections to each other.\n",
    "Make sure that you always parse out the text with the correct reading order.\n",
    "\"\"\"\n",
    "\n",
    "parser = LlamaParse(\n",
    "    result_type=\"markdown\",\n",
    "    use_vendor_multimodal_model=True,\n",
    "    vendor_multimodal_model_name=\"gemini-2.0-flash-001\",\n",
    "    invalidate_cache=True,\n",
    "    parsing_instruction=parsing_instruction,\n",
    ")\n",
    "json_objs = parser.get_json_result(\"./data/pb116349-business-health-select-handbook-1024-pdfa.pdf\")\n",
    "json_list = json_objs[0][\"pages\"]\n",
    "docs = get_text_nodes(json_list)"
   ]
  },
  {
   "cell_type": "code",
   "execution_count": 10,
   "id": "96a81df0-1026-4e30-a930-f677dc31e344",
   "metadata": {},
   "outputs": [],
   "source": [
    "# Optional: Save\n",
    "save_jsonl([d.dict() for d in docs], \"docs_gemini_2.0_flash.jsonl\")"
   ]
  },
  {
   "cell_type": "code",
   "execution_count": 9,
   "id": "ee2e6920-8893-4b39-ae12-94d13c651406",
   "metadata": {},
   "outputs": [
    {
     "name": "stderr",
     "output_type": "stream",
     "text": [
      "/var/folders/cg/ftn0fq2j6hbdx6dv0dp7drrr0000gn/T/ipykernel_4591/4252911382.py:5: PydanticDeprecatedSince20: The `parse_obj` method is deprecated; use `model_validate` instead. Deprecated in Pydantic V2.0 to be removed in V3.0. See Pydantic V2 Migration Guide at https://errors.pydantic.dev/2.10/migration/\n",
      "  docs = [Document.parse_obj(d) for d in docs_dicts]\n"
     ]
    }
   ],
   "source": [
    "# Optional: Load\n",
    "from llama_index.core import Document\n",
    "\n",
    "docs_dicts = load_jsonl(\"docs_gemini_2.0_flash.jsonl\")\n",
    "docs = [Document.parse_obj(d) for d in docs_dicts]"
   ]
  },
  {
   "cell_type": "markdown",
   "id": "4f3c51b0-7878-48d7-9bc3-02b516500128",
   "metadata": {},
   "source": [
    "### Setup GPT-4o baseline\n",
    "\n",
    "For comparison, we will also parse the document using GPT-4o ($0.03 per page)."
   ]
  },
  {
   "cell_type": "code",
   "execution_count": 10,
   "id": "6fc3f258-50ae-4988-b904-c105463a498f",
   "metadata": {},
   "outputs": [
    {
     "name": "stdout",
     "output_type": "stream",
     "text": [
      "WARNING: parsing_instruction is deprecated. Use complemental_formatting_instruction or content_guideline_instruction instead.\n",
      "Started parsing the file under job_id f5096af5-72f1-49c9-b00c-b5c245fd20a1\n"
     ]
    }
   ],
   "source": [
    "from llama_parse import LlamaParse\n",
    "\n",
    "parser_gpt4o = LlamaParse(\n",
    "    result_type=\"markdown\",\n",
    "    use_vendor_multimodal_model=True,\n",
    "    vendor_multimodal_model=\"openai-gpt4o\",\n",
    "    invalidate_cache=True,\n",
    "    parsing_instruction=parsing_instruction,\n",
    ")\n",
    "json_objs_gpt4o = parser_gpt4o.get_json_result(\"./data/XC9500_CPLD_Family.pdf\")\n",
    "json_list_gpt4o = json_objs_gpt4o[0][\"pages\"]\n",
    "docs_gpt4o = get_text_nodes(json_list_gpt4o)"
   ]
  },
  {
   "cell_type": "code",
   "execution_count": 11,
   "id": "6a47f04e-12e1-4c80-a71d-ef7721f96401",
   "metadata": {},
   "outputs": [],
   "source": [
    "# Optional: Save\n",
    "save_jsonl([d.dict() for d in docs_gpt4o], \"docs_gpt4o.jsonl\")"
   ]
  },
  {
   "cell_type": "code",
   "execution_count": 12,
   "id": "c38b5ca3-fa87-434b-b477-bf6a4962eb3d",
   "metadata": {},
   "outputs": [
    {
     "name": "stderr",
     "output_type": "stream",
     "text": [
      "/var/folders/cg/ftn0fq2j6hbdx6dv0dp7drrr0000gn/T/ipykernel_4591/1974592914.py:5: PydanticDeprecatedSince20: The `parse_obj` method is deprecated; use `model_validate` instead. Deprecated in Pydantic V2.0 to be removed in V3.0. See Pydantic V2 Migration Guide at https://errors.pydantic.dev/2.10/migration/\n",
      "  docs_gpt4o = [Document.parse_obj(d) for d in docs_gpt4o_dicts]\n"
     ]
    }
   ],
   "source": [
    "# Optional: Load\n",
    "from llama_index.core import Document\n",
    "\n",
    "docs_gpt4o_dicts = load_jsonl(\"docs_gpt4o.jsonl\")\n",
    "docs_gpt4o = [Document.parse_obj(d) for d in docs_gpt4o_dicts]"
   ]
  },
  {
   "cell_type": "markdown",
   "id": "44c20f7a-2901-4dd0-b635-a4b33c5664c1",
   "metadata": {},
   "source": [
    "## View Results\n",
    "\n",
    "Let's visualize the results between GPT-4o and Gemini Flash 2.0 along with the original document page."
   ]
  },
  {
   "cell_type": "markdown",
   "id": "bf314141-9f6d-4453-beb9-0106cdf196bf",
   "metadata": {},
   "source": [
    "Check out an example page 2 below."
   ]
  },
  {
   "cell_type": "markdown",
   "id": "c70d420d-1778-4b0d-81e2-db09276e90cf",
   "metadata": {},
   "source": [
    "![xc9500_img](XC9500_CPLD_Family_p3.png)"
   ]
  },
  {
   "cell_type": "markdown",
   "id": "0950ecad-248c-4c3c-98b9-ab1a9dabd5b4",
   "metadata": {},
   "source": [
    "We see that the parsed text is fairly similar between Gemini 2.0 Flash and GPT-4o. "
   ]
  },
  {
   "cell_type": "code",
   "execution_count": 13,
   "id": "778698aa-da7e-4081-b3b5-0372f228536f",
   "metadata": {},
   "outputs": [
    {
     "name": "stdout",
     "output_type": "stream",
     "text": [
      "page: 3\n",
      "\n",
      "Here's a breakdown of the provided document content, including a description of the schematic diagram and relevant text:\n",
      "\n",
      "**1.  Overall Document Context**\n",
      "\n",
      "*   The document is a technical datasheet for the Xilinx XC9500 In-System Programmable CPLD (Complex Programmable Logic Device) family.\n",
      "*   It is marked as \"PRODUCT OBSOLETE / UNDER OBSOLESCENCE\".\n",
      "\n",
      "**2.  Schematic Diagram (Figure 1: XC9500 Architecture)**\n",
      "\n",
      "*   **Description:** The diagram shows a high-level architecture of the XC9500 CPLD. It illustrates the connections between key functional blocks.\n",
      "\n",
      "*   **Components and Connections:**\n",
      "\n",
      "    *   **JTAG Port:**  Connects to the JTAG Controller via 3 lines.\n",
      "    *   **JTAG Controller:**  Bidirectionally connected to the In-System Programming Controller.\n",
      "    *   **In-System Programming Controller:** Bidirectionally connected to the Fast CONNECT II Switch Matrix.\n",
      "    *   **I/O Blocks:** Multiple I/O blocks are connected to the Fast CONNECT II Switch Matrix.  There are also dedicated I/O pins for global clock (I/O/GCK - 3 lines), global set/reset (I/O/GSR - 1 line), and global output enable (I/O/GTS - 2 or 4 lines).\n",
      "    *   **Fast CONNECT II Switch Matrix:**  This is the central interconnect. It connects to the I/O Blocks and multiple Function Blocks.\n",
      "    *   **Function Blocks (Block 1, Block 2, Block 3, ... Block N):** Each Function Block has:\n",
      "        *   36 inputs from the Fast CONNECT II Switch Matrix.\n",
      "        *   18 outputs to the Fast CONNECT II Switch Matrix.\n",
      "        *   Each Function Block contains Macrocells (1 to 18).\n",
      "\n",
      "**3.  Function Block Description**\n",
      "\n",
      "*   Each Function Block (FB) contains 18 independent macrocells.\n",
      "*   Each macrocell can implement combinatorial or registered logic.\n",
      "*   The FB receives global clock, output enable, and set/reset signals.\n",
      "*   The FB generates 18 outputs that drive the Fast CONNECT switch matrix. These 18 outputs and their corresponding output enable signals also drive the IOB.\n",
      "*   Logic within the FB is implemented using a sum-of-products representation.\n",
      "*   36 inputs provide 72 true and complement signals to the programmable AND-array to form 90 product terms.\n",
      "*   Any number of these product terms, up to 90, can be allocated to each macrocell by the product term allocator.\n",
      "*   Each FB (except for the XC9536) supports local feedback paths that allow any number of FB outputs to drive into its own programmable AND-array without going outside the FB. These paths are used for creating very fast counters and state machines where all state registers are within the same FB.\n",
      "\n",
      "**4.  Additional Information**\n",
      "\n",
      "*   The document is DS063 (v6.0), dated May 17, 2013.\n",
      "*   The Xilinx website is www.xilinx.com.\n"
     ]
    }
   ],
   "source": [
    "# using Gemini 2.0 Flash\n",
    "print(docs[2].get_content(metadata_mode=\"all\"))"
   ]
  },
  {
   "cell_type": "code",
   "execution_count": 14,
   "id": "1511a30f-3efc-4142-9668-7dc056a24d0c",
   "metadata": {},
   "outputs": [
    {
     "name": "stdout",
     "output_type": "stream",
     "text": [
      "page: 3\n",
      "\n",
      "The image is a block diagram of the XC9500 In-System Programmable CPLD Family architecture. Here's a breakdown of the components and their connections:\n",
      "\n",
      "### Components and Connections:\n",
      "\n",
      "1. **JTAG Port:**\n",
      "   - Connects to the JTAG Controller.\n",
      "\n",
      "2. **JTAG Controller:**\n",
      "   - Interfaces with the In-System Programming Controller.\n",
      "\n",
      "3. **In-System Programming Controller:**\n",
      "   - Connects to the Fast CONNECT Switch Matrix.\n",
      "\n",
      "4. **I/O Blocks:**\n",
      "   - Multiple I/O lines connect to the Fast CONNECT Switch Matrix.\n",
      "\n",
      "5. **Fast CONNECT Switch Matrix:**\n",
      "   - Connects to multiple Function Blocks (1 to N).\n",
      "   - Each Function Block has 36 inputs and 18 outputs.\n",
      "\n",
      "6. **Function Blocks (1 to N):**\n",
      "   - Each block contains 18 Macrocells.\n",
      "   - Outputs from the Function Blocks drive the I/O Blocks directly.\n",
      "\n",
      "7. **I/O/GCK, I/O/GSR, I/O/GTS:**\n",
      "   - Special I/O lines for global clock, set/reset, and output enable signals.\n",
      "\n",
      "### Function Block Details:\n",
      "\n",
      "- Each Function Block consists of 18 independent macrocells.\n",
      "- Capable of implementing combinatorial or registered functions.\n",
      "- Receives global clock, output enable, and set/reset signals.\n",
      "- Generates 18 outputs for the Fast CONNECT switch matrix.\n",
      "- Logic is implemented using a sum-of-products representation.\n",
      "- 36 inputs provide 72 true and complement signals to form 90 product terms.\n",
      "- Product terms can be allocated to each macrocell by the product term allocator.\n",
      "- Supports local feedback paths for fast counters and state machines.\n",
      "\n",
      "This architecture is marked as obsolete, indicating it is no longer in production or supported.\n"
     ]
    }
   ],
   "source": [
    "# using GPT-4o\n",
    "print(docs_gpt4o[2].get_content(metadata_mode=\"all\"))"
   ]
  },
  {
   "cell_type": "markdown",
   "id": "705f7729-fa0f-4ca0-8562-c42afeaa8532",
   "metadata": {},
   "source": [
    "## Setup RAG Pipeline\n",
    "\n",
    "Let's setup a RAG pipeline over this data.\n",
    "\n",
    "(we also use gpt4o-mini for the actual text synthesis step)."
   ]
  },
  {
   "cell_type": "code",
   "execution_count": 15,
   "id": "5a53ee5d-cc63-421b-8896-588c83edfcf0",
   "metadata": {},
   "outputs": [],
   "source": [
    "from llama_index.core import Settings\n",
    "from llama_index.llms.openai import OpenAI\n",
    "from llama_index.embeddings.openai import OpenAIEmbedding\n",
    "\n",
    "Settings.llm = OpenAI(model=\"o3-mini\")\n",
    "Settings.embed_model = OpenAIEmbedding(model=\"text-embedding-3-large\")"
   ]
  },
  {
   "cell_type": "code",
   "execution_count": 16,
   "id": "60972d7a-7948-4ad7-89df-57004acee917",
   "metadata": {},
   "outputs": [],
   "source": [
    "# from llama_index.core import SummaryIndex\n",
    "from llama_index.core import VectorStoreIndex\n",
    "from llama_index.llms.openai import OpenAI\n",
    "\n",
    "index = VectorStoreIndex(docs)\n",
    "query_engine = index.as_query_engine(similarity_top_k=5)\n",
    "\n",
    "index_gpt4o = VectorStoreIndex(docs_gpt4o)\n",
    "query_engine_gpt4o = index_gpt4o.as_query_engine(similarity_top_k=5)"
   ]
  },
  {
   "cell_type": "code",
   "execution_count": 17,
   "id": "e7df7bcb-1df4-4a01-88fc-2d596b1cc74d",
   "metadata": {},
   "outputs": [],
   "source": [
    "query = \"Give me the full output slew-Rate curve for (a) Rising and (b) Falling Outputs\"\n",
    "\n",
    "response = query_engine.query(query)\n",
    "response_gpt4o = query_engine_gpt4o.query(query)"
   ]
  },
  {
   "cell_type": "code",
   "execution_count": 18,
   "id": "b7070a31-3bb8-4134-8338-20bc2fd6f3d6",
   "metadata": {},
   "outputs": [
    {
     "name": "stdout",
     "output_type": "stream",
     "text": [
      "For rising outputs the transition begins at a low voltage and then ramps upward until it settles at the high level. In a standard (unlimited) drive the transition is quite steep; in contrast, when slew‐rate control is used an extra delay is introduced (denoted by a TSLEW delay) so that the voltage increases more gradually. The curve in this case shows a controlled, slower rise with a gentler slope—starting from the low level, moving upward (often noted by an intermediate level such as around 1.5V on the graph), and finally reaching the full high voltage.\n",
      "\n",
      "For falling outputs the behavior is analogous but with the voltage decreasing. Without slew rate limitation the fall is abrupt, whereas with slew‐rate control the output voltage descends gradually. The controlled fall begins at the high voltage level, then follows a smoothed, slower descent (again incorporating the TSLEW delay), and ultimately stabilizes at the low voltage.\n",
      "\n",
      "Thus, the full slew‐rate curves depict two cases for each transition: a steep, rapid change for standard outputs and a more gradual, delayed change for slew‐rate limited outputs in both rising and falling directions.\n"
     ]
    }
   ],
   "source": [
    "print(response)"
   ]
  },
  {
   "cell_type": "code",
   "execution_count": 19,
   "id": "7bee8167-f021-4c87-8d28-9f40a4f7b69d",
   "metadata": {},
   "outputs": [
    {
     "name": "stdout",
     "output_type": "stream",
     "text": [
      "Here is the information parsed from the document:\n",
      "\n",
      "**Figure 11: Output slew-Rate for (a) Rising and (b) Falling Outputs**\n",
      "\n",
      "| Parameter | Description                               |\n",
      "| :-------- | :---------------------------------------- |\n",
      "| TSLEW     | Additional time delay for slew rate control |\n",
      "| 1.5V      | Voltage level shown on the graph          |\n",
      "\n",
      "**Description of the Graph:**\n",
      "\n",
      "Figure 11 shows the output slew rate for rising and falling outputs. The graph shows the output voltage over time for both standard and slew-rate limited outputs.\n",
      "\n",
      "**Figure 12: XC9500 Devices in (a) 5V Systems and (b) Mixed 5V/3.3V Systems**\n",
      "\n",
      "**(a) 5V Systems**\n",
      "\n",
      "*   **XC9500 CPLD:**\n",
      "    *   VCCINT connected to 5V\n",
      "    *   VCCIO connected to 5V\n",
      "    *   GND connected to ground\n",
      "    *   IN connected to:\n",
      "        *   5V CMOS or 5V with a switch\n",
      "        *   5V TTL or 3.6V with a switch\n",
      "        *   3.3V or 3.3V with a switch\n",
      "    *   OUT connected to 5V TTL or -4V with a switch\n",
      "\n",
      "**(b) Mixed 5V/3.3V Systems**\n",
      "\n",
      "*   **XC9500 CPLD:**\n",
      "    *   VCCINT connected to 5V\n",
      "    *   VCCIO connected to 3.3V\n",
      "    *   GND connected to ground\n",
      "    *   IN connected to:\n",
      "        *   5V CMOS or 5V with a switch\n",
      "        *   5V TTL or 3.6V with a switch\n",
      "        *   3.3V or 3.3V with a switch\n",
      "    *   OUT connected to 3.3V or 3.3V with a switch\n"
     ]
    }
   ],
   "source": [
    "print(response.source_nodes[0].get_content())"
   ]
  },
  {
   "cell_type": "code",
   "execution_count": null,
   "id": "5f9fef7f-510b-46a5-8716-f5616f542035",
   "metadata": {},
   "outputs": [
    {
     "name": "stdout",
     "output_type": "stream",
     "text": [
      "The output slew-rate curve for (a) Rising and (b) Falling Outputs is represented in a timing diagram where the output voltage transitions from a low state to a high state and vice versa. \n",
      "\n",
      "For the rising output, the curve starts at 1.5V and transitions to the desired output voltage level over a time period defined as T<sub>SLEW</sub>. \n",
      "\n",
      "For the falling output, the curve similarly begins at the high output voltage and decreases to a low state, also taking the time defined as T<sub>SLEW</sub> to complete the transition.\n",
      "\n",
      "The specific values and graphical representation would typically be illustrated in a figure, but the key takeaway is that the output slew rate can be controlled to manage system noise by programming the desired T<sub>SLEW</sub> time.\n"
     ]
    }
   ],
   "source": [
    "print(response_gpt4o)"
   ]
  },
  {
   "cell_type": "code",
   "execution_count": null,
   "id": "d40f9dd4-2dd4-4fa5-b636-1f901dc1601b",
   "metadata": {},
   "outputs": [
    {
     "name": "stdout",
     "output_type": "stream",
     "text": [
      "# XC9500 In-System Programmable CPLD Family\n",
      "\n",
      "Each output has independent slew rate control. Output edge rates may be slowed down to reduce system noise (with an additional time delay of T<sub>SLEW</sub>) through programming. See Figure 11.\n",
      "\n",
      "Each IOB provides user programmable ground pin capability. This allows device I/O pins to be configured as additional ground pins. By tying strategically located programmable ground pins to the external ground connection, system noise generated from large numbers of simultaneous switching outputs may be reduced.\n",
      "\n",
      "A control pull-up resistor (typically 10K ohms) is attached to each device I/O pin to prevent them from floating when the device is not in normal user operation. This resistor is active during device programming mode and system power-up. It is also activated for an erased device. The resistor is deactivated during normal operation.\n",
      "\n",
      "The output driver is capable of supplying 24 mA output drive. All output drivers in the device may be configured for either 5V TTL levels or 3.3V levels by connecting the device output voltage supply (V<sub>CCIO</sub>) to a 5V or 3.3V voltage supply. Figure 12 shows how the XC9500 device can be used in 5V only and mixed 3.3V/5V systems.\n",
      "\n",
      "## Pin-Locking Capability\n",
      "\n",
      "The capability to lock the user defined pin assignments during design changes depends on the ability of the architecture to adapt to unexpected changes. The XC9500 devices have architectural features that enhance the ability to accept design changes while maintaining the same pinout.\n",
      "\n",
      "The XC9500 architecture provides maximum routing within the Fast CONNECT switch matrix, and incorporates a flexible Function Block that allows block-wide allocation of available product terms. This provides a high level of confidence of maintaining both input and output pin assignments for unexpected design changes.\n",
      "\n",
      "For extensive design changes requiring higher logic capacity than is available in the initially chosen device, the new design may be able to fit into a larger pin-compatible device using the same pin assignments. The same board may be used with a higher density device without the expense of board rework.\n",
      "\n",
      "!Output slew-Rate for (a) Rising and (b) Falling Outputs\n",
      "\n",
      "**Figure 11:** Output slew-Rate for (a) Rising and (b) Falling Outputs\n",
      "\n",
      "| Output Voltage | Time |\n",
      "|----------------|------|\n",
      "| 1.5V           | 0    |\n",
      "| T<sub>SLEW</sub> |    |\n",
      "\n",
      "**Figure 12:** XC9500 Devices in (a) 5V Systems and (b) Mixed 5V/3.3V Systems\n",
      "\n",
      "| 5V CMOS or 5V TTL | 3.3V |\n",
      "|-------------------|------|\n",
      "| 5V                | 0V   |\n",
      "| 3.6V              | 0V   |\n",
      "| 3.3V              | 0V   |\n",
      "\n",
      "- **XC9500 CPLD**  \n",
      "  - **IN**  \n",
      "  - **OUT**  \n",
      "  - **GND**  \n",
      "\n",
      "www.xilinx.com  \n",
      "DS063 (v6.0) May 17, 2013  \n",
      "Product Specification\n"
     ]
    }
   ],
   "source": [
    "print(response_gpt4o.source_nodes[0].get_content())"
   ]
  }
 ],
 "metadata": {
  "kernelspec": {
   "display_name": ".venv",
   "language": "python",
   "name": "python3"
  },
  "language_info": {
   "codemirror_mode": {
    "name": "ipython",
    "version": 3
   },
   "file_extension": ".py",
   "mimetype": "text/x-python",
   "name": "python",
   "nbconvert_exporter": "python",
   "pygments_lexer": "ipython3",
   "version": "3.12.8"
  }
 },
 "nbformat": 4,
 "nbformat_minor": 5
}
